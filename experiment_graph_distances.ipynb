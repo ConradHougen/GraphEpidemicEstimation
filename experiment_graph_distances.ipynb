{
 "cells": [
  {
   "cell_type": "code",
   "execution_count": 10,
   "metadata": {
    "collapsed": false
   },
   "outputs": [],
   "source": [
    "%run ./graph_stats.ipynb\n",
    "%run ./graph_sampling.ipynb"
   ]
  },
  {
   "cell_type": "code",
   "execution_count": 11,
   "metadata": {
    "collapsed": false
   },
   "outputs": [],
   "source": [
    "import netcomp as nc\n",
    "import pandas as pd\n",
    "import seaborn as sns"
   ]
  },
  {
   "cell_type": "code",
   "execution_count": 12,
   "metadata": {
    "collapsed": true
   },
   "outputs": [],
   "source": [
    "contact_adj_mat_files = ['output/temporally_aggregate_matrices/contact/agg_mat_InVS13.npy',\n",
    "                         'output/temporally_aggregate_matrices/contact/agg_mat_InVS15.npy',\n",
    "                         'output/temporally_aggregate_matrices/contact/agg_mat_LH10.npy',\n",
    "                         'output/temporally_aggregate_matrices/contact/agg_mat_LyonSchool.npy',\n",
    "                         'output/temporally_aggregate_matrices/contact/agg_mat_SFHH.npy',\n",
    "                         'output/temporally_aggregate_matrices/contact/agg_mat_Thiers13.npy']\n",
    "\n",
    "copresence_adj_mat_files = ['output/temporally_aggregate_matrices/co-presence/agg_mat_pres_InVS13.npy',\n",
    "                            'output/temporally_aggregate_matrices/co-presence/agg_mat_pres_InVS15.npy',\n",
    "                            'output/temporally_aggregate_matrices/co-presence/agg_mat_pres_LH10.npy',\n",
    "                            'output/temporally_aggregate_matrices/co-presence/agg_mat_pres_LyonSchool.npy',\n",
    "                            'output/temporally_aggregate_matrices/co-presence/agg_mat_pres_SFHH.npy',\n",
    "                            'output/temporally_aggregate_matrices/co-presence/agg_mat_pres_Thiers13.npy']\n",
    "\n",
    "agg_mat_InVS13 = np.load(contact_adj_mat_files[0])\n",
    "agg_mat_InVS15 = np.load(contact_adj_mat_files[1])\n",
    "agg_mat_LH10 = np.load(contact_adj_mat_files[2])\n",
    "agg_mat_LyonSchool = np.load(contact_adj_mat_files[3])\n",
    "agg_mat_SFHH = np.load(contact_adj_mat_files[4])\n",
    "agg_mat_Thiers13 = np.load(contact_adj_mat_files[5])\n",
    "\n",
    "agg_mat_pres_InVS13 = np.load(copresence_adj_mat_files[0])\n",
    "agg_mat_pres_InVS15 = np.load(copresence_adj_mat_files[1])\n",
    "agg_mat_pres_LH10 = np.load(copresence_adj_mat_files[2])\n",
    "agg_mat_pres_LyonSchool = np.load(copresence_adj_mat_files[3])\n",
    "agg_mat_pres_SFHH = np.load(copresence_adj_mat_files[4])\n",
    "agg_mat_pres_Thiers13 = np.load(copresence_adj_mat_files[5])\n",
    "\n",
    "uw_agg_mat_InVS13 = agg_mat_InVS13\n",
    "uw_agg_mat_InVS13[uw_agg_mat_InVS13 > 0] = 1\n",
    "uw_agg_mat_InVS15 = agg_mat_InVS15\n",
    "uw_agg_mat_InVS15[uw_agg_mat_InVS15 > 0] = 1\n",
    "uw_agg_mat_LH10 = agg_mat_LH10\n",
    "uw_agg_mat_LH10[uw_agg_mat_LH10 > 0] = 1\n",
    "uw_agg_mat_LyonSchool = agg_mat_LyonSchool\n",
    "uw_agg_mat_LyonSchool[uw_agg_mat_LyonSchool > 0] = 1\n",
    "uw_agg_mat_SFHH = agg_mat_SFHH\n",
    "uw_agg_mat_SFHH[uw_agg_mat_SFHH > 0] = 1\n",
    "uw_agg_mat_Thiers13 = agg_mat_Thiers13\n",
    "uw_agg_mat_Thiers13[uw_agg_mat_Thiers13 > 0] = 1\n",
    "\n",
    "uw_agg_mat_pres_InVS13 = agg_mat_pres_InVS13\n",
    "uw_agg_mat_pres_InVS13[uw_agg_mat_pres_InVS13 > 0] = 1\n",
    "uw_agg_mat_pres_InVS15 = agg_mat_pres_InVS15\n",
    "uw_agg_mat_pres_InVS15[uw_agg_mat_pres_InVS15 > 0] = 1\n",
    "uw_agg_mat_pres_LH10 = agg_mat_pres_LH10\n",
    "uw_agg_mat_pres_LH10[uw_agg_mat_pres_LH10 > 0] = 1\n",
    "uw_agg_mat_pres_LyonSchool = agg_mat_pres_LyonSchool\n",
    "uw_agg_mat_pres_LyonSchool[uw_agg_mat_pres_LyonSchool > 0] = 1\n",
    "uw_agg_mat_pres_SFHH = agg_mat_pres_SFHH\n",
    "uw_agg_mat_pres_SFHH[uw_agg_mat_pres_SFHH > 0] = 1\n",
    "uw_agg_mat_pres_Thiers13 = agg_mat_pres_Thiers13\n",
    "uw_agg_mat_pres_Thiers13[uw_agg_mat_pres_Thiers13 > 0] = 1"
   ]
  },
  {
   "cell_type": "code",
   "execution_count": 13,
   "metadata": {
    "collapsed": false
   },
   "outputs": [
    {
     "data": {
      "text/plain": [
       "12721.0"
      ]
     },
     "execution_count": 13,
     "metadata": {},
     "output_type": "execute_result"
    }
   ],
   "source": [
    "nc.edit_distance(uw_agg_mat_InVS15, uw_agg_mat_pres_InVS15)"
   ]
  },
  {
   "cell_type": "code",
   "execution_count": 14,
   "metadata": {
    "collapsed": false
   },
   "outputs": [
    {
     "data": {
      "text/plain": [
       "3044.717336460093"
      ]
     },
     "execution_count": 14,
     "metadata": {},
     "output_type": "execute_result"
    }
   ],
   "source": [
    "nc.deltacon0(uw_agg_mat_InVS15, uw_agg_mat_pres_InVS15)"
   ]
  },
  {
   "cell_type": "code",
   "execution_count": 15,
   "metadata": {
    "collapsed": false
   },
   "outputs": [
    {
     "data": {
      "text/plain": [
       "1719.4924172437366"
      ]
     },
     "execution_count": 15,
     "metadata": {},
     "output_type": "execute_result"
    }
   ],
   "source": [
    "nc.lambda_dist(uw_agg_mat_InVS15, uw_agg_mat_pres_InVS15)"
   ]
  },
  {
   "cell_type": "code",
   "execution_count": 16,
   "metadata": {
    "collapsed": true
   },
   "outputs": [],
   "source": [
    "# Function to run sampling/distance experiment\n",
    "def run_sample_and_distance_experiment(contact_A, \n",
    "                                       copres_A, \n",
    "                                       frac_edges_to_sample, \n",
    "                                       sampling_algo,\n",
    "                                       distance_algo,\n",
    "                                       num_trials):\n",
    "    \n",
    "    if frac_edges_to_sample < 0 or frac_edges_to_sample > 1:\n",
    "        print(\"{} is not a proper fraction\".format(frac_edges_to_sample))\n",
    "        return -1\n",
    "    \n",
    "    if contact_A.shape[0] != copres_A.shape[0]:\n",
    "        print(\"First dimension {} != {} for array shape\".format(contact_A.shape[0], \n",
    "                                                                copres_A.shape[0]))\n",
    "        return -1\n",
    "    \n",
    "    if contact_A.shape[1] != copres_A.shape[1]:\n",
    "        print(\"Second dimension {} != {} for array shape\".format(contact_A.shape[1], \n",
    "                                                                 copres_A.shape[1]))\n",
    "        return -1\n",
    "    \n",
    "    distances = np.zeros(num_trials)\n",
    "    for trial_num in range(0, num_trials):\n",
    "        sampled_copres_mat = sampling_algo(copres_A, frac_edges_to_sample)\n",
    "        distances[trial_num] = distance_algo(sampled_copres_mat, contact_A)\n",
    "        \n",
    "    return distances\n",
    "        "
   ]
  },
  {
   "cell_type": "markdown",
   "metadata": {},
   "source": [
    "# Determine Sampling Algos Which Have Smallest Distance"
   ]
  },
  {
   "cell_type": "markdown",
   "metadata": {},
   "source": [
    "### 80% Sampling Fraction (Edges)"
   ]
  },
  {
   "cell_type": "code",
   "execution_count": 17,
   "metadata": {
    "collapsed": false,
    "scrolled": true
   },
   "outputs": [],
   "source": [
    "f = 0.8\n",
    "\n",
    "distance_dict = {}\n",
    "\n",
    "distance_dict['lambda_UNS'] = run_sample_and_distance_experiment(agg_mat_InVS13,\n",
    "                                                          agg_mat_pres_InVS13,\n",
    "                                                          f,\n",
    "                                                          graph_sampling_algo_uniform_node_sampling,\n",
    "                                                          nc.lambda_dist,\n",
    "                                                          100)\n",
    "\n",
    "distance_dict['lambda_UES'] = run_sample_and_distance_experiment(agg_mat_InVS13,\n",
    "                                                          agg_mat_pres_InVS13,\n",
    "                                                          f,\n",
    "                                                          graph_sampling_algo_uniform_edge_sampling,\n",
    "                                                          nc.lambda_dist,\n",
    "                                                          100)\n",
    "\n",
    "distance_dict['lambda_MHRW'] = run_sample_and_distance_experiment(agg_mat_InVS13,\n",
    "                                                           agg_mat_pres_InVS13,\n",
    "                                                           f,\n",
    "                                                           graph_sampling_algo_metropolis_hastings_random_walk,\n",
    "                                                           nc.lambda_dist,\n",
    "                                                           100)\n",
    "\n",
    "distance_dict['lambda_FS'] = run_sample_and_distance_experiment(agg_mat_InVS13,\n",
    "                                                         agg_mat_pres_InVS13,\n",
    "                                                         f,\n",
    "                                                         graph_sampling_algo_frontier_sampling,\n",
    "                                                         nc.lambda_dist,\n",
    "                                                         100)\n",
    "\n",
    "distance_dict['lambda_SES'] = run_sample_and_distance_experiment(agg_mat_InVS13,\n",
    "                                                          agg_mat_pres_InVS13,\n",
    "                                                          f,\n",
    "                                                          graph_sampling_algo_snowball_expansion_sampling,\n",
    "                                                          nc.lambda_dist,\n",
    "                                                          100)\n",
    "\n",
    "distance_dict['lambda_FFS'] = run_sample_and_distance_experiment(agg_mat_InVS13,\n",
    "                                                          agg_mat_pres_InVS13,\n",
    "                                                          f,\n",
    "                                                          graph_sampling_algo_forest_fire_sampling,\n",
    "                                                          nc.lambda_dist,\n",
    "                                                          100)\n",
    "\n",
    "\n",
    "distance_dict['deltacon0_UNS'] = run_sample_and_distance_experiment(agg_mat_InVS13,\n",
    "                                                          agg_mat_pres_InVS13,\n",
    "                                                          f,\n",
    "                                                          graph_sampling_algo_uniform_node_sampling,\n",
    "                                                          nc.deltacon0,\n",
    "                                                          100)\n",
    "\n",
    "distance_dict['deltacon0_UES'] = run_sample_and_distance_experiment(agg_mat_InVS13,\n",
    "                                                          agg_mat_pres_InVS13,\n",
    "                                                          f,\n",
    "                                                          graph_sampling_algo_uniform_edge_sampling,\n",
    "                                                          nc.deltacon0,\n",
    "                                                          100)\n",
    "\n",
    "distance_dict['deltacon0_MHRW'] = run_sample_and_distance_experiment(agg_mat_InVS13,\n",
    "                                                           agg_mat_pres_InVS13,\n",
    "                                                           f,\n",
    "                                                           graph_sampling_algo_metropolis_hastings_random_walk,\n",
    "                                                           nc.deltacon0,\n",
    "                                                           100)\n",
    "\n",
    "distance_dict['deltacon0_FS'] = run_sample_and_distance_experiment(agg_mat_InVS13,\n",
    "                                                         agg_mat_pres_InVS13,\n",
    "                                                         f,\n",
    "                                                         graph_sampling_algo_frontier_sampling,\n",
    "                                                         nc.deltacon0,\n",
    "                                                         100)\n",
    "\n",
    "distance_dict['deltacon0_SES'] = run_sample_and_distance_experiment(agg_mat_InVS13,\n",
    "                                                          agg_mat_pres_InVS13,\n",
    "                                                          f,\n",
    "                                                          graph_sampling_algo_snowball_expansion_sampling,\n",
    "                                                          nc.deltacon0,\n",
    "                                                          100)\n",
    "\n",
    "distance_dict['deltacon0_FFS'] = run_sample_and_distance_experiment(agg_mat_InVS13,\n",
    "                                                          agg_mat_pres_InVS13,\n",
    "                                                          f,\n",
    "                                                          graph_sampling_algo_forest_fire_sampling,\n",
    "                                                          nc.deltacon0,\n",
    "                                                          100)\n",
    "\n",
    "df_80pct_UNS_UES_MHRW_FS_SES_FFS_InVS13 = pd.DataFrame(distance_dict)\n",
    "df_80pct_UNS_UES_MHRW_FS_SES_FFS_InVS13.to_pickle('output/lambda_deltacon0_distances/df_80pct_UNS_UES_MHRW_FS_SES_FFS_InVS13.pkl')"
   ]
  },
  {
   "cell_type": "code",
   "execution_count": 25,
   "metadata": {
    "collapsed": false
   },
   "outputs": [
    {
     "data": {
      "image/png": "[encoded data removed]",
      "text/plain": [
       "<Figure size 432x288 with 1 Axes>"
      ]
     },
     "metadata": {
      "needs_background": "light"
     },
     "output_type": "display_data"
    }
   ],
   "source": [
    "ax = sns.boxplot(data=df_80pct_UNS_UES_MHRW_FS_SES_FFS_InVS13[['lambda_UNS', \n",
    "                                                               'lambda_UES', \n",
    "                                                               'lambda_MHRW', \n",
    "                                                               'lambda_FS', \n",
    "                                                               'lambda_SES', \n",
    "                                                               'lambda_FFS']])\n",
    "ax.set(title='Lambda Distance vs Sampling Algorithm', xlabel='Sampling Algo', ylabel='Lambda Distance')\n",
    "ax.set_xticklabels(ax.get_xticklabels(), rotation=40, ha=\"right\")\n",
    "plt.tight_layout()\n",
    "plt.show()"
   ]
  },
  {
   "cell_type": "code",
   "execution_count": 27,
   "metadata": {
    "collapsed": false
   },
   "outputs": [
    {
     "data": {
      "image/png": "[encoded data removed]",
      "text/plain": [
       "<Figure size 432x288 with 1 Axes>"
      ]
     },
     "metadata": {
      "needs_background": "light"
     },
     "output_type": "display_data"
    }
   ],
   "source": [
    "ax = sns.boxplot(data=df_80pct_UNS_UES_MHRW_FS_SES_FFS_InVS13[['deltacon0_UNS', \n",
    "                                                               'deltacon0_UES', \n",
    "                                                               'deltacon0_MHRW', \n",
    "                                                               'deltacon0_FS', \n",
    "                                                               'deltacon0_SES', \n",
    "                                                               'deltacon0_FFS']])\n",
    "ax.set(title='DeltaCon Distance vs Sampling Algorithm', xlabel='Sampling Algo', ylabel='DeltaCon Distance')\n",
    "ax.set_xticklabels(ax.get_xticklabels(), rotation=40, ha=\"right\")\n",
    "plt.tight_layout()\n",
    "plt.show()"
   ]
  },
  {
   "cell_type": "code",
   "execution_count": null,
   "metadata": {
    "collapsed": true
   },
   "outputs": [],
   "source": []
  }
 ],
 "metadata": {
  "anaconda-cloud": {},
  "kernelspec": {
   "display_name": "Python 3",
   "language": "python",
   "name": "python3"
  },
  "language_info": {
   "codemirror_mode": {
    "name": "ipython",
    "version": 3
   },
   "file_extension": ".py",
   "mimetype": "text/x-python",
   "name": "python",
   "nbconvert_exporter": "python",
   "pygments_lexer": "ipython3",
   "version": "3.7.2"
  }
 },
 "nbformat": 4,
 "nbformat_minor": 2
}
