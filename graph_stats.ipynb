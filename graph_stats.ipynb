{
 "cells": [
  {
   "cell_type": "code",
   "execution_count": 1,
   "metadata": {
    "collapsed": true
   },
   "outputs": [],
   "source": [
    "import numpy as np\n",
    "import pandas as pd\n",
    "import matplotlib.pyplot as plt\n",
    "import scipy.linalg as la"
   ]
  },
  {
   "cell_type": "markdown",
   "metadata": {},
   "source": [
    "# Load the aggregated adjacency matrices"
   ]
  },
  {
   "cell_type": "code",
   "execution_count": 2,
   "metadata": {
    "collapsed": true
   },
   "outputs": [],
   "source": [
    "contact_adj_mat_files = ['output/temporally_aggregate_matrices/contact/agg_mat_InVS13.npy',\n",
    "                         'output/temporally_aggregate_matrices/contact/agg_mat_InVS15.npy',\n",
    "                         'output/temporally_aggregate_matrices/contact/agg_mat_LH10.npy',\n",
    "                         'output/temporally_aggregate_matrices/contact/agg_mat_LyonSchool.npy',\n",
    "                         'output/temporally_aggregate_matrices/contact/agg_mat_SFHH.npy',\n",
    "                         'output/temporally_aggregate_matrices/contact/agg_mat_Thiers13.npy']\n",
    "\n",
    "copresence_adj_mat_files = ['output/temporally_aggregate_matrices/co-presence/agg_mat_pres_InVS13.npy',\n",
    "                            'output/temporally_aggregate_matrices/co-presence/agg_mat_pres_InVS15.npy',\n",
    "                            'output/temporally_aggregate_matrices/co-presence/agg_mat_pres_LH10.npy',\n",
    "                            'output/temporally_aggregate_matrices/co-presence/agg_mat_pres_LyonSchool.npy',\n",
    "                            'output/temporally_aggregate_matrices/co-presence/agg_mat_pres_SFHH.npy',\n",
    "                            'output/temporally_aggregate_matrices/co-presence/agg_mat_pres_Thiers13.npy']\n",
    "\n",
    "agg_mat_InVS13 = np.load(contact_adj_mat_files[0])\n",
    "agg_mat_InVS15 = np.load(contact_adj_mat_files[1])\n",
    "agg_mat_LH10 = np.load(contact_adj_mat_files[2])\n",
    "agg_mat_LyonSchool = np.load(contact_adj_mat_files[3])\n",
    "agg_mat_SFHH = np.load(contact_adj_mat_files[4])\n",
    "agg_mat_Thiers13 = np.load(contact_adj_mat_files[5])\n",
    "\n",
    "agg_mat_pres_InVS13 = np.load(copresence_adj_mat_files[0])\n",
    "agg_mat_pres_InVS15 = np.load(copresence_adj_mat_files[1])\n",
    "agg_mat_pres_LH10 = np.load(copresence_adj_mat_files[2])\n",
    "agg_mat_pres_LyonSchool = np.load(copresence_adj_mat_files[3])\n",
    "agg_mat_pres_SFHH = np.load(copresence_adj_mat_files[4])\n",
    "agg_mat_pres_Thiers13 = np.load(copresence_adj_mat_files[5])"
   ]
  },
  {
   "cell_type": "markdown",
   "metadata": {},
   "source": [
    "# Function definitions for global scale graph properties"
   ]
  },
  {
   "cell_type": "code",
   "execution_count": 8,
   "metadata": {
    "collapsed": true
   },
   "outputs": [],
   "source": [
    "def get_num_vertices(adj_mat):\n",
    "    return adj_mat.shape[0]\n",
    "\n",
    "def get_num_edges(adj_mat):\n",
    "    n = get_num_vertices(adj_mat)\n",
    "    upper_tri_idx = np.triu_indices(n, 1)\n",
    "    return np.count_nonzero(adj_mat[upper_tri_idx])\n",
    "\n",
    "def compute_graph_volume(adj_mat):\n",
    "    return np.sum(adj_mat)\n",
    "\n",
    "def compute_graph_density(adj_mat):\n",
    "    n = get_num_vertices(adj_mat)\n",
    "    m = get_num_edges(adj_mat)\n",
    "    \n",
    "    density = float(2 * m)/float(n * (n - 1))\n",
    "    return density"
   ]
  },
  {
   "cell_type": "code",
   "execution_count": 9,
   "metadata": {
    "collapsed": false
   },
   "outputs": [
    {
     "data": {
      "text/plain": [
       "100L"
      ]
     },
     "execution_count": 9,
     "metadata": {},
     "output_type": "execute_result"
    }
   ],
   "source": [
    "get_num_vertices(agg_mat_InVS13)"
   ]
  },
  {
   "cell_type": "code",
   "execution_count": 10,
   "metadata": {
    "collapsed": false
   },
   "outputs": [
    {
     "data": {
      "text/plain": [
       "755"
      ]
     },
     "execution_count": 10,
     "metadata": {},
     "output_type": "execute_result"
    }
   ],
   "source": [
    "get_num_edges(agg_mat_InVS13)"
   ]
  },
  {
   "cell_type": "code",
   "execution_count": 11,
   "metadata": {
    "collapsed": false
   },
   "outputs": [
    {
     "data": {
      "text/plain": [
       "19654.0"
      ]
     },
     "execution_count": 11,
     "metadata": {},
     "output_type": "execute_result"
    }
   ],
   "source": [
    "compute_graph_volume(agg_mat_InVS13)"
   ]
  },
  {
   "cell_type": "code",
   "execution_count": 12,
   "metadata": {
    "collapsed": false
   },
   "outputs": [
    {
     "data": {
      "text/plain": [
       "0.15252525252525254"
      ]
     },
     "execution_count": 12,
     "metadata": {},
     "output_type": "execute_result"
    }
   ],
   "source": [
    "compute_graph_density(agg_mat_InVS13)"
   ]
  },
  {
   "cell_type": "markdown",
   "metadata": {},
   "source": [
    "# Function definitions for local scale graph properties"
   ]
  },
  {
   "cell_type": "code",
   "execution_count": 74,
   "metadata": {
    "collapsed": true
   },
   "outputs": [],
   "source": [
    "def compute_degree_distribution(adj_mat):\n",
    "    # Assuming a simple, possibly weighted graph, degree of each vertex\n",
    "    # will be the sum along one axis\n",
    "    deg_arr = np.sum(adj_mat, axis=0)\n",
    "    return deg_arr\n",
    "\n",
    "def compute_average_degree(adj_mat):\n",
    "    deg_arr = compute_degree_distribution(adj_mat)\n",
    "    n = get_num_vertices(adj_mat)\n",
    "    \n",
    "    avg_deg = float(sum(deg_arr))/float(n)\n",
    "    return avg_deg\n",
    "\n",
    "def display_degree_distribution(adj_mat):\n",
    "    deg_arr = compute_degree_distribution(adj_mat)\n",
    "    # Display histogram of degree distribution\n",
    "    plt.subplot(2, 1, 1)\n",
    "    plt.hist(deg_arr, bins='auto')\n",
    "    plt.title('Degree Distribution')\n",
    "    \n",
    "    # Display histogram of degree distribution with log-log plot\n",
    "    print(\"TODO: Create log-log degree distribution plot\")\n",
    "    \n",
    "    plt.show()\n",
    "    \n",
    "def get_neighborhood_set_of_node(adj_mat, node):\n",
    "    nbrhd = []\n",
    "    n = get_num_vertices(adj_mat)\n",
    "    \n",
    "    # Find all edges connecting node to other nodes\n",
    "    for j in range(0, n):\n",
    "        if adj_mat[node][j] != 0:\n",
    "            nbrhd.append(j)\n",
    "    return nbrhd\n",
    "    \n",
    "def compute_clustering_coefficient(adj_mat, node):\n",
    "    # Get the degree of the node\n",
    "    node_deg = compute_degree_distribution(adj_mat)[node]\n",
    "    \n",
    "    if node_deg <= 1:\n",
    "        print(\"Node {} has degree {}. CC is undefined\".format(node, node_deg))\n",
    "        return 0\n",
    "    \n",
    "    # Get the neighborhood set of the node\n",
    "    nbrhd = get_neighborhood_set_of_node(adj_mat, node)\n",
    "       \n",
    "    # Get reduced neighborhood matrix of node\n",
    "    nbrhd_matrix = adj_mat[:, nbrhd]\n",
    "    nbrhd_matrix = nbrhd_matrix[nbrhd, :]\n",
    "       \n",
    "    # Count the number of triangles formed by the neighborhood set\n",
    "    num_triangles = np.sum(nbrhd_matrix)\n",
    "\n",
    "    # Compute the clustering coefficient and add it to the array\n",
    "    clustering_coefficient = float(2 * num_triangles)/float(node_deg * (node_deg - 1))\n",
    "    return clustering_coefficient\n",
    "    \n",
    "def compute_all_clustering_coefficients(adj_mat):\n",
    "    # For each node in the graph, compute the clustering coefficient and store\n",
    "    # it in an array\n",
    "    n = get_num_vertices(adj_mat)\n",
    "    cluster_coeff_arr = np.zeros((n, 1))\n",
    "    \n",
    "    for node in range(0, n):\n",
    "        # Compute the clustering coefficient and add it to the array\n",
    "        cluster_coeff_arr[node] = compute_clustering_coefficient(adj_mat, node)\n",
    "        \n",
    "    return cluster_coeff_arr    \n",
    "        \n",
    "def compute_average_clustering_coefficient(adj_mat):\n",
    "    n = get_num_vertices(adj_mat)\n",
    "    avg_cc = float(np.sum(compute_all_clustering_coefficients(adj_mat)))/float(n)\n",
    "    return avg_cc\n",
    "   "
   ]
  },
  {
   "cell_type": "code",
   "execution_count": 65,
   "metadata": {
    "collapsed": false
   },
   "outputs": [
    {
     "data": {
      "text/plain": [
       "array([    0.,     0.,   173.,   104.,    70.,   137.,    48.,   230.,\n",
       "          96.,   323.,   186.,   736.,    79.,   173.,   146.,    11.,\n",
       "           0.,   496.,   373.,   143.,   220.,   253.,    93.,    37.,\n",
       "         160.,   419.,   208.,   659.,     0.,   131.,   181.,   216.,\n",
       "         446.,   994.,   185.,   103.,    86.,   287.,    75.,   403.,\n",
       "          51.,   390.,    98.,   177.,    64.,     8.,   101.,    36.,\n",
       "         294.,   312.,    82.,    16.,   414.,   122.,     0.,   314.,\n",
       "         299.,   269.,  1091.,     5.,   285.,    90.,   124.,   628.,\n",
       "          95.,     0.,     0.,   123.,    86.,   422.,   328.,   233.,\n",
       "         241.,    75.,   112.,    50.,   358.,   289.,    33.,   171.,\n",
       "         268.,   171.,   404.,   119.,   187.,    87.,   372.,    63.,\n",
       "           0.,    54.,   105.,    17.,   427.,   155.,   207.,    74.,\n",
       "         236.,    21.,    96.,    25.])"
      ]
     },
     "execution_count": 65,
     "metadata": {},
     "output_type": "execute_result"
    }
   ],
   "source": [
    "deg_arr = compute_degree_distribution(agg_mat_InVS13)\n",
    "deg_arr"
   ]
  },
  {
   "cell_type": "code",
   "execution_count": 66,
   "metadata": {
    "collapsed": false
   },
   "outputs": [
    {
     "data": {
      "text/plain": [
       "196.54"
      ]
     },
     "execution_count": 66,
     "metadata": {},
     "output_type": "execute_result"
    }
   ],
   "source": [
    "compute_average_degree(agg_mat_InVS13)"
   ]
  },
  {
   "cell_type": "code",
   "execution_count": 67,
   "metadata": {
    "collapsed": false
   },
   "outputs": [
    {
     "data": {
      "image/png": "[encoded data removed]",
      "text/plain": [
       "<matplotlib.figure.Figure at 0xce69d68>"
      ]
     },
     "metadata": {},
     "output_type": "display_data"
    }
   ],
   "source": [
    "display_degree_distribution(agg_mat_InVS13)"
   ]
  },
  {
   "cell_type": "code",
   "execution_count": 68,
   "metadata": {
    "collapsed": false
   },
   "outputs": [
    {
     "data": {
      "text/plain": [
       "array([[  0.,   0.,   0., ...,   0.,   0.,   0.],\n",
       "       [  0.,   0.,   0., ...,   0.,   0.,   0.],\n",
       "       [  2.,   0.,  80., ...,   0.,   0.,   0.],\n",
       "       ..., \n",
       "       [  0.,   0.,   0., ...,   0.,   0.,   0.],\n",
       "       [  0.,   0.,   4., ...,   0.,   0.,   0.],\n",
       "       [  0.,   0.,   0., ...,   0.,   0.,   1.]])"
      ]
     },
     "execution_count": 68,
     "metadata": {},
     "output_type": "execute_result"
    }
   ],
   "source": [
    "test_neighbors = get_neighborhood_set_of_node(agg_mat_InVS13, 22)\n",
    "test_nbrhd_matrix = agg_mat_InVS13[:, test_neighbors]\n",
    "test_nbrhd_matrix"
   ]
  },
  {
   "cell_type": "code",
   "execution_count": 69,
   "metadata": {
    "collapsed": false
   },
   "outputs": [
    {
     "data": {
      "text/plain": [
       "0.6563814866760168"
      ]
     },
     "execution_count": 69,
     "metadata": {},
     "output_type": "execute_result"
    }
   ],
   "source": [
    "compute_clustering_coefficient(agg_mat_InVS13, 22)"
   ]
  },
  {
   "cell_type": "code",
   "execution_count": 71,
   "metadata": {
    "collapsed": false,
    "scrolled": true
   },
   "outputs": [
    {
     "name": "stdout",
     "output_type": "stream",
     "text": [
      "Node 0 has degree 0.0. CC is undefined\n",
      "Node 1 has degree 0.0. CC is undefined\n",
      "Node 16 has degree 0.0. CC is undefined\n",
      "Node 28 has degree 0.0. CC is undefined\n",
      "Node 54 has degree 0.0. CC is undefined\n",
      "Node 65 has degree 0.0. CC is undefined\n",
      "Node 66 has degree 0.0. CC is undefined\n",
      "Node 88 has degree 0.0. CC is undefined\n"
     ]
    },
    {
     "data": {
      "text/plain": [
       "array([[  0.00000000e+00],\n",
       "       [  0.00000000e+00],\n",
       "       [  8.26724022e-02],\n",
       "       [  2.99477222e-01],\n",
       "       [  4.20703934e-01],\n",
       "       [  3.54873336e-01],\n",
       "       [  1.22340426e+00],\n",
       "       [  1.29105753e-01],\n",
       "       [  1.79824561e-01],\n",
       "       [  3.01521066e-02],\n",
       "       [  8.03254868e-02],\n",
       "       [  1.67997634e-02],\n",
       "       [  8.76338851e-02],\n",
       "       [  1.54052964e-01],\n",
       "       [  2.32782239e-01],\n",
       "       [  3.63636364e-02],\n",
       "       [  0.00000000e+00],\n",
       "       [  3.92798957e-02],\n",
       "       [  6.97627490e-03],\n",
       "       [  1.51482320e-01],\n",
       "       [  8.05313408e-03],\n",
       "       [  3.75807767e-02],\n",
       "       [  6.56381487e-01],\n",
       "       [  6.96696697e-01],\n",
       "       [  1.19968553e-01],\n",
       "       [  2.53051809e-02],\n",
       "       [  9.87551096e-02],\n",
       "       [  1.99344129e-02],\n",
       "       [  0.00000000e+00],\n",
       "       [  2.43570170e-01],\n",
       "       [  1.48557397e-02],\n",
       "       [  1.42721792e-01],\n",
       "       [  4.10742178e-02],\n",
       "       [  6.58938525e-03],\n",
       "       [  2.60869565e-01],\n",
       "       [  1.77041690e-01],\n",
       "       [  3.22298222e-01],\n",
       "       [  2.13932409e-02],\n",
       "       [  6.75315315e-01],\n",
       "       [  3.55542387e-02],\n",
       "       [  7.65490196e-01],\n",
       "       [  2.66561202e-02],\n",
       "       [  2.99179466e-01],\n",
       "       [  1.02080123e-01],\n",
       "       [  8.26388889e-01],\n",
       "       [  2.07142857e+00],\n",
       "       [  4.03168317e-01],\n",
       "       [  2.82539683e-01],\n",
       "       [  5.39574191e-02],\n",
       "       [  8.23645808e-02],\n",
       "       [  2.36675700e-01],\n",
       "       [  6.10000000e+00],\n",
       "       [  1.65163584e-02],\n",
       "       [  3.30578512e-01],\n",
       "       [  0.00000000e+00],\n",
       "       [  4.78215747e-02],\n",
       "       [  5.04590245e-02],\n",
       "       [  4.99361926e-02],\n",
       "       [  5.34145090e-03],\n",
       "       [  2.20000000e+00],\n",
       "       [  5.24833210e-02],\n",
       "       [  3.87515605e-01],\n",
       "       [  7.34329924e-02],\n",
       "       [  1.90981217e-02],\n",
       "       [  2.72340426e-01],\n",
       "       [  0.00000000e+00],\n",
       "       [  0.00000000e+00],\n",
       "       [  8.74316940e-02],\n",
       "       [  1.03365253e+00],\n",
       "       [  3.36143914e-02],\n",
       "       [  4.02774670e-02],\n",
       "       [  1.21355631e-02],\n",
       "       [  8.61687414e-02],\n",
       "       [  1.55315315e+00],\n",
       "       [  2.44530245e-02],\n",
       "       [  3.13469388e-01],\n",
       "       [  6.63818600e-02],\n",
       "       [  7.69896194e-02],\n",
       "       [  3.67424242e-01],\n",
       "       [  2.14241486e-01],\n",
       "       [  1.07328526e-01],\n",
       "       [  6.06811146e-02],\n",
       "       [  1.96300027e-02],\n",
       "       [  1.95413759e-01],\n",
       "       [  9.90167328e-02],\n",
       "       [  2.62496659e-01],\n",
       "       [  2.33602875e-02],\n",
       "       [  6.45161290e-01],\n",
       "       [  0.00000000e+00],\n",
       "       [  2.78127184e-01],\n",
       "       [  1.53479853e-01],\n",
       "       [  1.02941176e-01],\n",
       "       [  6.13297270e-02],\n",
       "       [  1.47130289e-01],\n",
       "       [  1.38548849e-01],\n",
       "       [  2.82117734e-01],\n",
       "       [  8.25820411e-02],\n",
       "       [  6.85714286e-01],\n",
       "       [  3.14473684e-01],\n",
       "       [  1.10666667e+00]])"
      ]
     },
     "execution_count": 71,
     "metadata": {},
     "output_type": "execute_result"
    }
   ],
   "source": [
    "compute_all_clustering_coefficients(agg_mat_InVS13)"
   ]
  },
  {
   "cell_type": "code",
   "execution_count": 72,
   "metadata": {
    "collapsed": false
   },
   "outputs": [
    {
     "name": "stdout",
     "output_type": "stream",
     "text": [
      "Node 0 has degree 0.0. CC is undefined\n",
      "Node 1 has degree 0.0. CC is undefined\n",
      "Node 16 has degree 0.0. CC is undefined\n",
      "Node 28 has degree 0.0. CC is undefined\n",
      "Node 54 has degree 0.0. CC is undefined\n",
      "Node 65 has degree 0.0. CC is undefined\n",
      "Node 66 has degree 0.0. CC is undefined\n",
      "Node 88 has degree 0.0. CC is undefined\n"
     ]
    },
    {
     "data": {
      "text/plain": [
       "0.30560914630609887"
      ]
     },
     "execution_count": 72,
     "metadata": {},
     "output_type": "execute_result"
    }
   ],
   "source": [
    "compute_average_clustering_coefficient(agg_mat_InVS13)"
   ]
  },
  {
   "cell_type": "code",
   "execution_count": 73,
   "metadata": {
    "collapsed": false
   },
   "outputs": [
    {
     "data": {
      "text/plain": [
       "0.014348216510121246"
      ]
     },
     "execution_count": 73,
     "metadata": {},
     "output_type": "execute_result"
    }
   ],
   "source": [
    "compute_average_clustering_coefficient(agg_mat_pres_LyonSchool)"
   ]
  },
  {
   "cell_type": "markdown",
   "metadata": {},
   "source": [
    "# Graph Comparison"
   ]
  },
  {
   "cell_type": "code",
   "execution_count": null,
   "metadata": {
    "collapsed": true
   },
   "outputs": [],
   "source": []
  }
 ],
 "metadata": {
  "anaconda-cloud": {},
  "kernelspec": {
   "display_name": "Python [conda root]",
   "language": "python",
   "name": "conda-root-py"
  },
  "language_info": {
   "codemirror_mode": {
    "name": "ipython",
    "version": 2
   },
   "file_extension": ".py",
   "mimetype": "text/x-python",
   "name": "python",
   "nbconvert_exporter": "python",
   "pygments_lexer": "ipython2",
   "version": "2.7.12"
  }
 },
 "nbformat": 4,
 "nbformat_minor": 1
}
