{
 "cells": [
  {
   "cell_type": "code",
   "execution_count": 1,
   "metadata": {
    "collapsed": true
   },
   "outputs": [],
   "source": [
    "import numpy as np\n",
    "import pandas as pd\n",
    "import matplotlib.pyplot as plt\n",
    "import scipy.linalg as la"
   ]
  },
  {
   "cell_type": "markdown",
   "metadata": {},
   "source": [
    "# Load the aggregated adjacency matrices"
   ]
  },
  {
   "cell_type": "code",
   "execution_count": 2,
   "metadata": {
    "collapsed": true
   },
   "outputs": [],
   "source": [
    "copresence_adj_mat_files = ['output/temporally_aggregate_matrices/co-presence/agg_mat_pres_InVS13.npy',\n",
    "                            'output/temporally_aggregate_matrices/co-presence/agg_mat_pres_InVS15.npy',\n",
    "                            'output/temporally_aggregate_matrices/co-presence/agg_mat_pres_LH10.npy',\n",
    "                            'output/temporally_aggregate_matrices/co-presence/agg_mat_pres_LyonSchool.npy',\n",
    "                            'output/temporally_aggregate_matrices/co-presence/agg_mat_pres_SFHH.npy',\n",
    "                            'output/temporally_aggregate_matrices/co-presence/agg_mat_pres_Thiers13.npy']\n",
    "\n",
    "agg_mat_pres_InVS13 = np.load(copresence_adj_mat_files[0])\n",
    "agg_mat_pres_InVS15 = np.load(copresence_adj_mat_files[1])\n",
    "agg_mat_pres_LH10 = np.load(copresence_adj_mat_files[2])\n",
    "agg_mat_pres_LyonSchool = np.load(copresence_adj_mat_files[3])\n",
    "agg_mat_pres_SFHH = np.load(copresence_adj_mat_files[4])\n",
    "agg_mat_pres_Thiers13 = np.load(copresence_adj_mat_files[5])"
   ]
  },
  {
   "cell_type": "code",
   "execution_count": 3,
   "metadata": {
    "collapsed": true
   },
   "outputs": [],
   "source": [
    "%run graph_stats.ipynb\n",
    "%run graph_sampling.ipynb"
   ]
  },
  {
   "cell_type": "code",
   "execution_count": 6,
   "metadata": {
    "collapsed": false
   },
   "outputs": [],
   "source": [
    "f = 0.8\n",
    "pct = int(f * 100)\n",
    "\n",
    "# Uniform Node Sampling\n",
    "A_s = graph_sampling_algo_uniform_node_sampling(agg_mat_pres_InVS13, f)\n",
    "np.save('output/sampled_copresence/UNS_copresence_{}pct_InVS13.npy'.format(pct), A_s)\n",
    "A_s = graph_sampling_algo_uniform_node_sampling(agg_mat_pres_InVS15, f)\n",
    "np.save('output/sampled_copresence/UNS_copresence_{}pct_InVS15.npy'.format(pct), A_s)\n",
    "A_s = graph_sampling_algo_uniform_node_sampling(agg_mat_pres_LH10, f)\n",
    "np.save('output/sampled_copresence/UNS_copresence_{}pct_LH10.npy'.format(pct), A_s)\n",
    "A_s = graph_sampling_algo_uniform_node_sampling(agg_mat_pres_LyonSchool, f)\n",
    "np.save('output/sampled_copresence/UNS_copresence_{}pct_LyonSchool.npy'.format(pct), A_s)\n",
    "A_s = graph_sampling_algo_uniform_node_sampling(agg_mat_pres_SFHH, f)\n",
    "np.save('output/sampled_copresence/UNS_copresence_{}pct_SFHH.npy'.format(pct), A_s)\n",
    "A_s = graph_sampling_algo_uniform_node_sampling(agg_mat_pres_Thiers13, f)\n",
    "np.save('output/sampled_copresence/UNS_copresence_{}pct_Thiers13.npy'.format(pct), A_s)\n",
    "    \n",
    "# Uniform Edge Sampling\n",
    "A_s = graph_sampling_algo_uniform_edge_sampling(agg_mat_pres_InVS13, f)\n",
    "np.save('output/sampled_copresence/UES_copresence_{}pct_InVS13.npy'.format(pct), A_s)\n",
    "A_s = graph_sampling_algo_uniform_edge_sampling(agg_mat_pres_InVS15, f)\n",
    "np.save('output/sampled_copresence/UES_copresence_{}pct_InVS15.npy'.format(pct), A_s)\n",
    "A_s = graph_sampling_algo_uniform_edge_sampling(agg_mat_pres_LH10, f)\n",
    "np.save('output/sampled_copresence/UES_copresence_{}pct_LH10.npy'.format(pct), A_s)\n",
    "A_s = graph_sampling_algo_uniform_edge_sampling(agg_mat_pres_LyonSchool, f)\n",
    "np.save('output/sampled_copresence/UES_copresence_{}pct_LyonSchool.npy'.format(pct), A_s)\n",
    "A_s = graph_sampling_algo_uniform_edge_sampling(agg_mat_pres_SFHH, f)\n",
    "np.save('output/sampled_copresence/UES_copresence_{}pct_SFHH.npy'.format(pct), A_s)\n",
    "A_s = graph_sampling_algo_uniform_edge_sampling(agg_mat_pres_Thiers13, f)\n",
    "np.save('output/sampled_copresence/UES_copresence_{}pct_Thiers13.npy'.format(pct), A_s)\n",
    "\n",
    "# Metropolis-Hastings Random Walk with 5% random jump probability\n",
    "r_jump_prob = 0.05\n",
    "A_s = graph_sampling_algo_metropolis_hastings_random_walk(agg_mat_pres_InVS13, f, r_jump_prob)\n",
    "np.save('output/sampled_copresence/MHRW_copresence_{}pct_InVS13.npy'.format(pct), A_s)\n",
    "A_s = graph_sampling_algo_metropolis_hastings_random_walk(agg_mat_pres_InVS15, f, r_jump_prob)\n",
    "np.save('output/sampled_copresence/MHRW_copresence_{}pct_InVS15.npy'.format(pct), A_s)\n",
    "A_s = graph_sampling_algo_metropolis_hastings_random_walk(agg_mat_pres_LH10, f, r_jump_prob)\n",
    "np.save('output/sampled_copresence/MHRW_copresence_{}pct_LH10.npy'.format(pct), A_s)\n",
    "A_s = graph_sampling_algo_metropolis_hastings_random_walk(agg_mat_pres_LyonSchool, f, r_jump_prob)\n",
    "np.save('output/sampled_copresence/MHRW_copresence_{}pct_LyonSchool.npy'.format(pct), A_s)\n",
    "A_s = graph_sampling_algo_metropolis_hastings_random_walk(agg_mat_pres_SFHH, f, r_jump_prob)\n",
    "np.save('output/sampled_copresence/MHRW_copresence_{}pct_SFHH.npy'.format(pct), A_s)\n",
    "A_s = graph_sampling_algo_metropolis_hastings_random_walk(agg_mat_pres_Thiers13, f, r_jump_prob)\n",
    "np.save('output/sampled_copresence/MHRW_copresence_{}pct_Thiers13.npy'.format(pct), A_s)\n",
    "\n",
    "\n",
    "# Frontier Sampling using RW of dimension scaled to 5% of number of vertices\n",
    "FS_dim = int(0.05 * get_num_vertices(agg_mat_pres_InVS13))\n",
    "A_s = graph_sampling_algo_frontier_sampling(agg_mat_pres_InVS13, f, FS_dim)\n",
    "np.save('output/sampled_copresence/FS_copresence_{}pct_InVS13.npy'.format(pct), A_s)\n",
    "A_s = graph_sampling_algo_frontier_sampling(agg_mat_pres_InVS15, f, FS_dim)\n",
    "np.save('output/sampled_copresence/FS_copresence_{}pct_InVS15.npy'.format(pct), A_s)\n",
    "A_s = graph_sampling_algo_frontier_sampling(agg_mat_pres_LH10, f, FS_dim)\n",
    "np.save('output/sampled_copresence/FS_copresence_{}pct_LH10.npy'.format(pct), A_s)\n",
    "A_s = graph_sampling_algo_frontier_sampling(agg_mat_pres_LyonSchool, f, FS_dim)\n",
    "np.save('output/sampled_copresence/FS_copresence_{}pct_LyonSchool.npy'.format(pct), A_s)\n",
    "A_s = graph_sampling_algo_frontier_sampling(agg_mat_pres_SFHH, f, FS_dim)\n",
    "np.save('output/sampled_copresence/FS_copresence_{}pct_SFHH.npy'.format(pct), A_s)\n",
    "A_s = graph_sampling_algo_frontier_sampling(agg_mat_pres_Thiers13, f, FS_dim)\n",
    "np.save('output/sampled_copresence/FS_copresence_{}pct_Thiers13.npy'.format(pct), A_s)\n",
    "\n",
    "# Snowball Expansion Sampling\n",
    "A_s = graph_sampling_algo_snowball_expansion_sampling(agg_mat_pres_InVS13, f)\n",
    "np.save('output/sampled_copresence/SES_copresence_{}pct_InVS13.npy'.format(pct), A_s)\n",
    "A_s = graph_sampling_algo_snowball_expansion_sampling(agg_mat_pres_InVS15, f)\n",
    "np.save('output/sampled_copresence/SES_copresence_{}pct_InVS15.npy'.format(pct), A_s)\n",
    "A_s = graph_sampling_algo_snowball_expansion_sampling(agg_mat_pres_LH10, f)\n",
    "np.save('output/sampled_copresence/SES_copresence_{}pct_LH10.npy'.format(pct), A_s)\n",
    "A_s = graph_sampling_algo_snowball_expansion_sampling(agg_mat_pres_LyonSchool, f)\n",
    "np.save('output/sampled_copresence/SES_copresence_{}pct_LyonSchool.npy'.format(pct), A_s)\n",
    "A_s = graph_sampling_algo_snowball_expansion_sampling(agg_mat_pres_SFHH, f)\n",
    "np.save('output/sampled_copresence/SES_copresence_{}pct_SFHH.npy'.format(pct), A_s)\n",
    "A_s = graph_sampling_algo_snowball_expansion_sampling(agg_mat_pres_Thiers13, f)\n",
    "np.save('output/sampled_copresence/SES_copresence_{}pct_Thiers13.npy'.format(pct), A_s)\n",
    "\n"
   ]
  },
  {
   "cell_type": "code",
   "execution_count": null,
   "metadata": {
    "collapsed": true
   },
   "outputs": [],
   "source": []
  }
 ],
 "metadata": {
  "kernelspec": {
   "display_name": "Python [conda root]",
   "language": "python",
   "name": "conda-root-py"
  },
  "language_info": {
   "codemirror_mode": {
    "name": "ipython",
    "version": 2
   },
   "file_extension": ".py",
   "mimetype": "text/x-python",
   "name": "python",
   "nbconvert_exporter": "python",
   "pygments_lexer": "ipython2",
   "version": "2.7.12"
  }
 },
 "nbformat": 4,
 "nbformat_minor": 1
}
