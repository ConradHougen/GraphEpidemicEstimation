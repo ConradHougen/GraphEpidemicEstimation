{
 "cells": [
  {
   "cell_type": "code",
   "execution_count": 4,
   "metadata": {
    "collapsed": true
   },
   "outputs": [],
   "source": [
    "import numpy as np\n",
    "import pandas as pd\n",
    "import matplotlib.pyplot as plt\n",
    "import scipy.linalg as la"
   ]
  },
  {
   "cell_type": "code",
   "execution_count": 5,
   "metadata": {
    "collapsed": true
   },
   "outputs": [],
   "source": [
    "def find_susceptible_neighbors(adj_mat, node_idx, S_nodes):\n",
    "    nbrhd = get_neighborhood_set_of_node(adj_mat, node_idx)\n",
    "    \n",
    "    S_nbrs = []\n",
    "    for nbr in nbrhd:\n",
    "        if nbr in S_nodes:\n",
    "            S_nbrs.append(nbr)\n",
    "            \n",
    "    return S_nbrs\n",
    "\n",
    "# A: Weighted adjacency matrix (where weights indicate strength of connection)\n",
    "# beta: The infection rate (in inverse time units)\n",
    "# mu: The recovery rate (in inverse time units)\n",
    "# dt: time unit\n",
    "# DEBUG: T/F indicating whether to print debug messages or not\n",
    "def Kermack_McKendrick_SIR_model(A, beta, mu, dt, DEBUG):\n",
    "    n = A.shape[0]\n",
    "    adj_mat = np.where(A != 0, 1, 0)\n",
    "    \n",
    "    q = mu * dt\n",
    "    \n",
    "    # Init all nodes to Susceptible state\n",
    "    SIR_states = {}\n",
    "    S_nodes = range(0, n)\n",
    "    I_nodes = []\n",
    "    R_nodes = []\n",
    "    for i in range(0, n):\n",
    "        SIR_states[i] = 'S'\n",
    "        \n",
    "    # Randomly select a node to move to Infected state\n",
    "    infected_seed_node = np.random.randint(0, n)\n",
    "    SIR_states[infected_seed_node] = 'I'\n",
    "    I_nodes.append(infected_seed_node)\n",
    "    S_nodes.remove(infected_seed_node)\n",
    "    \n",
    "    # Run simulation as long as there are still susceptible nodes which have a nonzero probability of being infected\n",
    "    # i.e. check if there are still any infected nodes, and check if there are still any susceptible nodes\n",
    "    # T tracks how long the epidemic lasts, in each unit of time\n",
    "    T = 0\n",
    "    num_infected = len(I_nodes)\n",
    "    num_susceptible = len(S_nodes)\n",
    "    while num_infected > 0 and num_susceptible > 0:\n",
    "        \n",
    "        for infected_node in I_nodes:\n",
    "            # First, simulate disease spreading from infected to susceptible individuals\n",
    "            S_nbrs = find_susceptible_neighbors(adj_mat, infected_node, S_nodes)\n",
    "            if not S_nbrs:\n",
    "                if DEBUG:\n",
    "                    print \"Infected node {} has no susceptible neighbors\".format(infected_node)\n",
    "            else:\n",
    "                for S_nbr in S_nbrs:\n",
    "                    # Simulate disease spread for each susceptible neighbor\n",
    "                    r = np.random.random()\n",
    "                    p = beta * A[infected_node][S_nbr] * dt\n",
    "                    if r < p:\n",
    "                        if DEBUG:\n",
    "                            print \"S node {} was infected at time {}\".format(S_nbr, T)\n",
    "                        I_nodes.append(S_nbr)\n",
    "                        S_nodes.remove(S_nbr)\n",
    "                        SIR_states[S_nbr] = 'I'\n",
    "                        \n",
    "            # Second, simulate disease recovery/death of a node\n",
    "            r = np.random.random()\n",
    "            if r < q:\n",
    "                if DEBUG:\n",
    "                    print \"I node {} moved to recovered state at time {}\".format(infected_node, T)\n",
    "                I_nodes.remove(infected_node)\n",
    "                R_nodes.append(infected_node)\n",
    "                SIR_states[infected_node] = 'R'\n",
    "        \n",
    "        # Increment the time of epidemic\n",
    "        T += 1\n",
    "        \n",
    "        # Recount the number of infected and susceptible nodes\n",
    "        num_infected = len(I_nodes)\n",
    "        num_susceptible = len(S_nodes)\n",
    "    \n",
    "    return SIR_states\n",
    "        \n",
    "        \n",
    "    "
   ]
  },
  {
   "cell_type": "code",
   "execution_count": null,
   "metadata": {
    "collapsed": true
   },
   "outputs": [],
   "source": [
    "def random_vaccination_SIR_model(A, beta, mu, dt, N_immune, DEBUG):"
   ]
  },
  {
   "cell_type": "code",
   "execution_count": null,
   "metadata": {
    "collapsed": true
   },
   "outputs": [],
   "source": [
    "def high_deg_vaccination_SIR_model(A, beta, mu, dt, N_immune, DEBUG):"
   ]
  }
 ],
 "metadata": {
  "kernelspec": {
   "display_name": "Python [conda root]",
   "language": "python",
   "name": "conda-root-py"
  },
  "language_info": {
   "codemirror_mode": {
    "name": "ipython",
    "version": 2
   },
   "file_extension": ".py",
   "mimetype": "text/x-python",
   "name": "python",
   "nbconvert_exporter": "python",
   "pygments_lexer": "ipython2",
   "version": "2.7.12"
  }
 },
 "nbformat": 4,
 "nbformat_minor": 1
}
