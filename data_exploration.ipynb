{
 "cells": [
  {
   "cell_type": "code",
   "execution_count": 1,
   "metadata": {
    "collapsed": true
   },
   "outputs": [],
   "source": [
    "import numpy as np\n",
    "import pandas as pd\n",
    "import matplotlib.pyplot as plt"
   ]
  },
  {
   "cell_type": "code",
   "execution_count": 4,
   "metadata": {
    "collapsed": true
   },
   "outputs": [],
   "source": [
    "contact_filenames = ['contact/tij_InVS13.dat',\n",
    "                    'contact/tij_InVS15.dat',\n",
    "                    'contact/tij_LH10.dat',\n",
    "                    'contact/tij_LyonSchool.dat',\n",
    "                    'contact/tij_SFHH.dat',\n",
    "                    'contact/tij_Thiers13.dat']\n",
    "\n",
    "copresence_filenames = ['co-presence/tij_pres_InVS13/dat',\n",
    "                       'co-presence/tij_pres_InVS15.dat',\n",
    "                       'co-presence/tij_pres_LH10.dat',\n",
    "                       'co-presence/tij_pres_LyonSchool.dat',\n",
    "                       'co-presence/tij_pres_SFHH.dat',\n",
    "                       'co-presence/tij_pres_Thiers13.dat']\n",
    "\n",
    "metadata_filenames = ['metadata/metadata_InVS13.dat',\n",
    "                     'metadata/metadata_InVS15.dat',\n",
    "                     'metadata/metadata_LH10.dat',\n",
    "                     'metadata/metadata_LyonSchool.dat',\n",
    "                     'metadata/metadata_SFHH.dat',\n",
    "                     'metadata/metadata_Thiers13.dat']"
   ]
  },
  {
   "cell_type": "code",
   "execution_count": 7,
   "metadata": {
    "collapsed": false
   },
   "outputs": [],
   "source": [
    "def create_node_df_from_metadata_file(metadata_filename):\n",
    "    with open(metadata_filename, 'r') as f:\n",
    "        df = pd.DataFrame(l.rstrip().split() for l in f)\n",
    "        df = pd.to_numeric(df[0])\n",
    "        df = df.sort_values()\n",
    "        return df\n",
    "\n",
    "def create_tij_df_from_data_file(data_filename):\n",
    "    with open(data_filename, 'r') as f:\n",
    "        df = pd.DataFrame(l.rstrip().split() for l in f)\n",
    "        df = df.apply(pd.to_numeric)\n",
    "        return df    \n",
    "\n",
    "def map_adj_mat_idx_to_node_id(adj_mat_idx, nodes_df):\n",
    "    if adj_mat_idx in range(0, len(nodes_df)):\n",
    "        return nodes_df[adj_mat_idx]\n",
    "    else:\n",
    "        print \"Error, index {} does not map to a valid node\".format(adj_mat_idx)\n",
    "\n",
    "def map_node_id_to_adj_mat_idx(node_id, nodes_df):\n",
    "    if node_id in set(nodes_df):\n",
    "        return nodes_df[nodes_df == node_id].index.item()\n",
    "    else:\n",
    "        print \"Error, invalid node id {}\".format(node_id)\n",
    "        \n",
    "def create_temporally_aggregated_adj_mat(tij_df, nodes_df):\n",
    "    n = len(nodes_df)\n",
    "    A = np.zeros((n, n))\n",
    "    \n",
    "    \n",
    "    \n",
    "    return A"
   ]
  },
  {
   "cell_type": "code",
   "execution_count": 8,
   "metadata": {
    "collapsed": false
   },
   "outputs": [],
   "source": [
    "nodes = create_node_df_from_metadata_file(metadata_filenames[0])\n",
    "tij_mat = create_tij_df_from_data_file(contact_filenames[0])\n",
    "A = create_temporally_aggregated_adj_mat(tij_mat, nodes)"
   ]
  },
  {
   "cell_type": "code",
   "execution_count": 9,
   "metadata": {
    "collapsed": false
   },
   "outputs": [
    {
     "data": {
      "image/png": "[encoded data removed]",
      "text/plain": [
       "<matplotlib.figure.Figure at 0xa695780>"
      ]
     },
     "metadata": {},
     "output_type": "display_data"
    }
   ],
   "source": [
    "plt.matshow(A)\n",
    "plt.colorbar()\n",
    "plt.show()"
   ]
  },
  {
   "cell_type": "code",
   "execution_count": null,
   "metadata": {
    "collapsed": true
   },
   "outputs": [],
   "source": []
  }
 ],
 "metadata": {
  "kernelspec": {
   "display_name": "Python [conda root]",
   "language": "python",
   "name": "conda-root-py"
  },
  "language_info": {
   "codemirror_mode": {
    "name": "ipython",
    "version": 2
   },
   "file_extension": ".py",
   "mimetype": "text/x-python",
   "name": "python",
   "nbconvert_exporter": "python",
   "pygments_lexer": "ipython2",
   "version": "2.7.12"
  }
 },
 "nbformat": 4,
 "nbformat_minor": 1
}
