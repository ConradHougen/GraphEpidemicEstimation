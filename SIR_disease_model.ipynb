{
 "cells": [
  {
   "cell_type": "code",
   "execution_count": 7,
   "metadata": {
    "collapsed": false
   },
   "outputs": [],
   "source": [
    "%run ./graph_sampling.ipynb"
   ]
  },
  {
   "cell_type": "markdown",
   "metadata": {},
   "source": [
    "# Functions to Model Disease Spread"
   ]
  },
  {
   "cell_type": "code",
   "execution_count": 8,
   "metadata": {
    "collapsed": false
   },
   "outputs": [],
   "source": [
    "def find_susceptible_neighbors(adj_mat, node_idx, S_nodes):\n",
    "    nbrhd = get_neighborhood_set_of_node(adj_mat, node_idx)\n",
    "    \n",
    "    S_nbrs = []\n",
    "    for nbr in nbrhd:\n",
    "        if nbr in S_nodes:\n",
    "            S_nbrs.append(nbr)\n",
    "            \n",
    "    return S_nbrs\n",
    "\n",
    "# A: weighted adjacency matrix, encoding time of contact between two individuals\n",
    "# p: probability of the disease spreading from one individual to another, per unit contact time (i.e. per 20 sec interval)\n",
    "# q: probability of moving from infected to recovered state\n",
    "def Binomial_SIR_epidemic_model(A, p, q, DEBUG):\n",
    "    n = A.shape[0]\n",
    "    adj_mat = np.where(A != 0, 1, 0)\n",
    "    \n",
    "    # Init all nodes to Susceptible state\n",
    "    SIR_states = {}\n",
    "    S_nodes = range(0, n)\n",
    "    I_nodes = []\n",
    "    R_nodes = []\n",
    "    for i in range(0, n):\n",
    "        SIR_states[i] = 'S'\n",
    "    \n",
    "    # Randomly select a node to move to Infected state\n",
    "    infected_seed_node = np.random.randint(0, n)\n",
    "    SIR_states[infected_seed_node] = 'I'\n",
    "    I_nodes.append(infected_seed_node)\n",
    "    S_nodes.remove(infected_seed_node)\n",
    "    \n",
    "    # Run simulation as long as there are still susceptible nodes which have a nonzero probability of being infected\n",
    "    # i.e. check if there are still any infected nodes, and check if there are still any susceptible nodes\n",
    "    # T tracks how long the epidemic lasts, in days\n",
    "    T = 0\n",
    "    num_infected = len(I_nodes)\n",
    "    num_susceptible = len(S_nodes)\n",
    "    while num_infected > 0 and num_susceptible > 0:\n",
    "        \n",
    "        for infected_node in I_nodes:\n",
    "            # First, simulate disease spreading from infected to susceptible individuals\n",
    "            S_nbrs = find_susceptible_neighbors(adj_mat, infected_node, S_nodes)\n",
    "            if not S_nbrs:\n",
    "                if DEBUG:\n",
    "                    print \"Infected node {} has no susceptible neighbors\".format(infected_node)\n",
    "            else:\n",
    "                for S_nbr in S_nbrs:\n",
    "                    # Simulate disease spread for each susceptible neighbor\n",
    "                    r = np.random.binomial(A[infected_node][S_nbr], p)\n",
    "                    if r > 0:\n",
    "                        if DEBUG:\n",
    "                            print \"S node {} was infected on day {}\".format(S_nbr, T)\n",
    "                        I_nodes.append(S_nbr)\n",
    "                        S_nodes.remove(S_nbr)\n",
    "                        SIR_states[S_nbr] = 'I'\n",
    "                        \n",
    "            # Second, simulate disease recovery/death of a node\n",
    "            r = np.random.binomial(1, q)\n",
    "            if r > 0:\n",
    "                if DEBUG:\n",
    "                    print \"I node {} moved to recovered state on day {}\".format(infected_node, T)\n",
    "                I_nodes.remove(infected_node)\n",
    "                R_nodes.append(infected_node)\n",
    "                SIR_states[infected_node] = 'R'\n",
    "        \n",
    "        # Increment the time of epidemic\n",
    "        T += 1\n",
    "        \n",
    "        # Recount the number of infected and susceptible nodes\n",
    "        num_infected = len(I_nodes)\n",
    "        num_susceptible = len(S_nodes)\n",
    "        \n",
    "    return SIR_states\n",
    "    \n",
    "        \n",
    "                        \n",
    "    "
   ]
  },
  {
   "cell_type": "code",
   "execution_count": 9,
   "metadata": {
    "collapsed": false,
    "scrolled": true
   },
   "outputs": [],
   "source": [
    "#SIR_results = Binomial_SIR_epidemic_model(agg_mat_LyonSchool, 0.0005, 0.1, True)"
   ]
  },
  {
   "cell_type": "code",
   "execution_count": 10,
   "metadata": {
    "collapsed": false
   },
   "outputs": [],
   "source": [
    "#import itertools\n",
    "#[(k, len(list(v))) for k, v in itertools.groupby(sorted(SIR_results.values()))]"
   ]
  },
  {
   "cell_type": "code",
   "execution_count": 11,
   "metadata": {
    "collapsed": false
   },
   "outputs": [],
   "source": [
    "#NS_pres_LyonSchool = graph_sampling_algo_uniform_node_sampling(agg_mat_pres_LyonSchool, 0.4)"
   ]
  },
  {
   "cell_type": "code",
   "execution_count": 12,
   "metadata": {
    "collapsed": false
   },
   "outputs": [],
   "source": [
    "#SIR_results = Binomial_SIR_epidemic_model(NS_pres_LyonSchool, 0.0005, 0.1, True)"
   ]
  },
  {
   "cell_type": "code",
   "execution_count": null,
   "metadata": {
    "collapsed": true
   },
   "outputs": [],
   "source": []
  },
  {
   "cell_type": "code",
   "execution_count": null,
   "metadata": {
    "collapsed": true
   },
   "outputs": [],
   "source": []
  }
 ],
 "metadata": {
  "anaconda-cloud": {},
  "kernelspec": {
   "display_name": "Python [conda root]",
   "language": "python",
   "name": "conda-root-py"
  },
  "language_info": {
   "codemirror_mode": {
    "name": "ipython",
    "version": 2
   },
   "file_extension": ".py",
   "mimetype": "text/x-python",
   "name": "python",
   "nbconvert_exporter": "python",
   "pygments_lexer": "ipython2",
   "version": "2.7.12"
  }
 },
 "nbformat": 4,
 "nbformat_minor": 1
}
