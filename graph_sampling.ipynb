{
 "cells": [
  {
   "cell_type": "code",
   "execution_count": 1,
   "metadata": {
    "collapsed": true
   },
   "outputs": [],
   "source": [
    "import numpy as np\n",
    "import pandas as pd\n",
    "import matplotlib.pyplot as plt\n",
    "import scipy.linalg as la"
   ]
  },
  {
   "cell_type": "markdown",
   "metadata": {},
   "source": [
    "# Load the aggregated adjacency matrices"
   ]
  },
  {
   "cell_type": "code",
   "execution_count": 2,
   "metadata": {
    "collapsed": true
   },
   "outputs": [],
   "source": [
    "contact_adj_mat_files = ['output/temporally_aggregate_matrices/contact/agg_mat_InVS13.npy',\n",
    "                         'output/temporally_aggregate_matrices/contact/agg_mat_InVS15.npy',\n",
    "                         'output/temporally_aggregate_matrices/contact/agg_mat_LH10.npy',\n",
    "                         'output/temporally_aggregate_matrices/contact/agg_mat_LyonSchool.npy',\n",
    "                         'output/temporally_aggregate_matrices/contact/agg_mat_SFHH.npy',\n",
    "                         'output/temporally_aggregate_matrices/contact/agg_mat_Thiers13.npy']\n",
    "\n",
    "copresence_adj_mat_files = ['output/temporally_aggregate_matrices/co-presence/agg_mat_pres_InVS13.npy',\n",
    "                            'output/temporally_aggregate_matrices/co-presence/agg_mat_pres_InVS15.npy',\n",
    "                            'output/temporally_aggregate_matrices/co-presence/agg_mat_pres_LH10.npy',\n",
    "                            'output/temporally_aggregate_matrices/co-presence/agg_mat_pres_LyonSchool.npy',\n",
    "                            'output/temporally_aggregate_matrices/co-presence/agg_mat_pres_SFHH.npy',\n",
    "                            'output/temporally_aggregate_matrices/co-presence/agg_mat_pres_Thiers13.npy']\n",
    "\n",
    "agg_mat_InVS13 = np.load(contact_adj_mat_files[0])\n",
    "agg_mat_InVS15 = np.load(contact_adj_mat_files[1])\n",
    "agg_mat_LH10 = np.load(contact_adj_mat_files[2])\n",
    "agg_mat_LyonSchool = np.load(contact_adj_mat_files[3])\n",
    "agg_mat_SFHH = np.load(contact_adj_mat_files[4])\n",
    "agg_mat_Thiers13 = np.load(contact_adj_mat_files[5])\n",
    "\n",
    "agg_mat_pres_InVS13 = np.load(copresence_adj_mat_files[0])\n",
    "agg_mat_pres_InVS15 = np.load(copresence_adj_mat_files[1])\n",
    "agg_mat_pres_LH10 = np.load(copresence_adj_mat_files[2])\n",
    "agg_mat_pres_LyonSchool = np.load(copresence_adj_mat_files[3])\n",
    "agg_mat_pres_SFHH = np.load(copresence_adj_mat_files[4])\n",
    "agg_mat_pres_Thiers13 = np.load(copresence_adj_mat_files[5])"
   ]
  },
  {
   "cell_type": "markdown",
   "metadata": {},
   "source": [
    "# Node Sampling (Induced Subgraph Sampling)"
   ]
  },
  {
   "cell_type": "code",
   "execution_count": null,
   "metadata": {
    "collapsed": true
   },
   "outputs": [],
   "source": []
  },
  {
   "cell_type": "markdown",
   "metadata": {},
   "source": [
    "# Edge Sampling (Incident Subgraph Sampling)"
   ]
  },
  {
   "cell_type": "code",
   "execution_count": null,
   "metadata": {
    "collapsed": true
   },
   "outputs": [],
   "source": []
  },
  {
   "cell_type": "markdown",
   "metadata": {},
   "source": [
    "# Metropolis-Hastings Random Walk"
   ]
  },
  {
   "cell_type": "code",
   "execution_count": null,
   "metadata": {
    "collapsed": true
   },
   "outputs": [],
   "source": []
  },
  {
   "cell_type": "markdown",
   "metadata": {},
   "source": [
    "# Frontier Sampling"
   ]
  },
  {
   "cell_type": "code",
   "execution_count": null,
   "metadata": {
    "collapsed": true
   },
   "outputs": [],
   "source": []
  },
  {
   "cell_type": "markdown",
   "metadata": {},
   "source": [
    "# Snowball Expansion Sampling"
   ]
  },
  {
   "cell_type": "code",
   "execution_count": null,
   "metadata": {
    "collapsed": true
   },
   "outputs": [],
   "source": []
  }
 ],
 "metadata": {
  "kernelspec": {
   "display_name": "Python [conda root]",
   "language": "python",
   "name": "conda-root-py"
  },
  "language_info": {
   "codemirror_mode": {
    "name": "ipython",
    "version": 2
   },
   "file_extension": ".py",
   "mimetype": "text/x-python",
   "name": "python",
   "nbconvert_exporter": "python",
   "pygments_lexer": "ipython2",
   "version": "2.7.12"
  }
 },
 "nbformat": 4,
 "nbformat_minor": 1
}
